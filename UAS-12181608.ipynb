{
 "cells": [
  {
   "cell_type": "code",
   "execution_count": 2,
   "metadata": {},
   "outputs": [
    {
     "data": {
      "application/vnd.jupyter.widget-view+json": {
       "model_id": "c35847be-5679-4434-b549-936a46b0967b",
       "version_major": 2,
       "version_minor": 0
      },
      "method": "display_data"
     },
     "metadata": {},
     "output_type": "display_data"
    }
   ],
   "source": [
    "//add library\n",
    "%classpath add jar libs/*"
   ]
  },
  {
   "cell_type": "code",
   "execution_count": 27,
   "metadata": {},
   "outputs": [
    {
     "data": {
      "text/html": [
       "<html></html>"
      ]
     },
     "execution_count": 27,
     "metadata": {},
     "output_type": "execute_result"
    }
   ],
   "source": [
    "//Render HTML\n",
    "%%html"
   ]
  },
  {
   "cell_type": "code",
   "execution_count": 7,
   "metadata": {},
   "outputs": [
    {
     "data": {
      "application/vnd.jupyter.widget-view+json": {
       "model_id": "",
       "version_major": 2,
       "version_minor": 0
      },
      "method": "display_data"
     },
     "metadata": {},
     "output_type": "display_data"
    },
    {
     "data": {
      "application/vnd.jupyter.widget-view+json": {
       "model_id": "b88a0402-ae11-4e1b-b829-d35942e09fd2",
       "version_major": 2,
       "version_minor": 0
      },
      "method": "display_data"
     },
     "metadata": {},
     "output_type": "display_data"
    }
   ],
   "source": [
    "%%classpath add mvn\n",
    "tech.tablesaw tablesaw-beakerx 0.37.0\n",
    "tech.tablesaw tablesaw-jsplot 0.37.0\n",
    "tech.tablesaw tablesaw-plot 0.24.4"
   ]
  },
  {
   "cell_type": "code",
   "execution_count": 92,
   "metadata": {},
   "outputs": [
    {
     "name": "stdout",
     "output_type": "stream",
     "text": [
      "        Structure of 12181608.csv        \n",
      " Index  |  Column Name  |  Column Type  |\n",
      "-----------------------------------------\n",
      "     0  |          _id  |      INTEGER  |\n",
      "     1  |          idx  |      INTEGER  |\n",
      "     2  |       vervar  |       STRING  |\n",
      "     3  |          var  |       STRING  |\n",
      "     4  |       turvar  |       STRING  |\n",
      "     5  |        tahun  |      INTEGER  |\n",
      "     6  |     turtahun  |       STRING  |\n",
      "     7  |        nilai  |      INTEGER  |\n",
      "365 rows X 8 cols\n",
      "       Structure of 12181608.xlsx        \n",
      " Index  |  Column Name  |  Column Type  |\n",
      "-----------------------------------------\n",
      "     0  |          _id  |      INTEGER  |\n",
      "     1  |          idx  |      INTEGER  |\n",
      "     2  |       vervar  |       STRING  |\n",
      "     3  |          var  |       STRING  |\n",
      "     4  |       turvar  |       STRING  |\n",
      "     5  |        tahun  |      INTEGER  |\n",
      "     6  |     turtahun  |       STRING  |\n",
      "     7  |        nilai  |      INTEGER  |\n",
      "370 rows X 8 cols\n",
      "                                                             12181608 XLSX dan CSV                                                              \n",
      " _id  |  idx  |   vervar    |                               var                               |    turvar     |  tahun  |  turtahun  |  nilai  |\n",
      "------------------------------------------------------------------------------------------------------------------------------------------------\n",
      " 366  |  365  |  Sidoharjo  |  Banyaknya Ternak Unggas Menurut Kecamatan di Kabupaten Sragen  |         Itik  |   2011  |     Tahun  |   9241  |\n",
      " 367  |  366  |  Sidoharjo  |  Banyaknya Ternak Unggas Menurut Kecamatan di Kabupaten Sragen  |         Itik  |   2012  |     Tahun  |   9255  |\n",
      " 368  |  367  |  Sidoharjo  |  Banyaknya Ternak Unggas Menurut Kecamatan di Kabupaten Sragen  |         Itik  |   2013  |     Tahun  |   9395  |\n",
      " 369  |  368  |  Sidoharjo  |  Banyaknya Ternak Unggas Menurut Kecamatan di Kabupaten Sragen  |         Itik  |   2014  |     Tahun  |   9321  |\n",
      " 370  |  369  |  Sidoharjo  |  Banyaknya Ternak Unggas Menurut Kecamatan di Kabupaten Sragen  |         Itik  |   2015  |     Tahun  |   9341  |\n",
      " 371  |  370  |  Sidoharjo  |  Banyaknya Ternak Unggas Menurut Kecamatan di Kabupaten Sragen  |  Itik Manila  |   2011  |     Tahun  |   2135  |\n",
      " 372  |  371  |  Sidoharjo  |  Banyaknya Ternak Unggas Menurut Kecamatan di Kabupaten Sragen  |  Itik Manila  |   2012  |     Tahun  |   2145  |\n",
      " 373  |  372  |  Sidoharjo  |  Banyaknya Ternak Unggas Menurut Kecamatan di Kabupaten Sragen  |  Itik Manila  |   2013  |     Tahun  |   2148  |\n",
      " 374  |  373  |  Sidoharjo  |  Banyaknya Ternak Unggas Menurut Kecamatan di Kabupaten Sragen  |  Itik Manila  |   2014  |     Tahun  |   2161  |\n",
      " 375  |  374  |  Sidoharjo  |  Banyaknya Ternak Unggas Menurut Kecamatan di Kabupaten Sragen  |  Itik Manila  |   2015  |     Tahun  |   2165  |\n",
      "                                                   Rerata 12181608 XLSX dan CSV summary                                                   \n",
      " Sum [nilai]  |    Mean [nilai]     |  Max [nilai]  |  Min [nilai]  |  Median [nilai]  |  Std. Deviation [nilai]  |   Variance [nilai]   |\n",
      "------------------------------------------------------------------------------------------------------------------------------------------\n",
      "    48656532  |  66199.36326530628  |      4257167  |            0  |             854  |      344658.38258699724  |  118789400687.48497  |\n",
      "Rerata 12181608 XLSX dan CSV summary\n",
      "    vervar     |  Sum [nilai]  |\n",
      "--------------------------------\n",
      "     Gemolong  |      1340074  |\n",
      "         Gesi  |       591792  |\n",
      "      Gondang  |       498527  |\n",
      "        Jenar  |       368868  |\n",
      "    Kabupaten  |     24328266  |\n",
      "    Kalijambe  |      1601623  |\n",
      " Karangmalang  |      1252296  |\n",
      "     Kedawung  |      2192760  |\n",
      "      Masaran  |      1243094  |\n",
      "         Miri  |      1471078  |\n",
      "          ...  |          ...  |\n",
      "     Ngrampal  |       705400  |\n",
      "       Plupuh  |       772862  |\n",
      "    Sambirejo  |       870315  |\n",
      " Sambungmacan  |      1161964  |\n",
      "    Sidoharjo  |      1336758  |\n",
      "       Sragen  |       730412  |\n",
      "     Sukodono  |       655121  |\n",
      " Sumberlawang  |      1222748  |\n",
      "       Tangen  |       326524  |\n",
      "        Tanon  |      3455303  |\n",
      "Rerata 12181608 XLSX dan CSV summary\n",
      "    turvar     |  Sum [nilai]  |\n",
      "--------------------------------\n",
      "        Angsa  |        20284  |\n",
      " Ayam Kampung  |      7467476  |\n",
      "     Ayam Ras  |     40167166  |\n",
      "         Itik  |       383120  |\n",
      "  Itik Manila  |       135094  |\n",
      "      Kelinci  |        13446  |\n",
      "        Puyuh  |       469946  |\n"
     ]
    },
    {
     "data": {
      "text/plain": [
       "null"
      ]
     },
     "execution_count": 92,
     "metadata": {},
     "output_type": "execute_result"
    }
   ],
   "source": [
    "package tech.tablesaw.examples;\n",
    "\n",
    "import tech.tablesaw.api.*;\n",
    "import tech.tablesaw.io.xlsx.*;\n",
    "import tech.tablesaw.io.csv.*;\n",
    "import static tech.tablesaw.aggregate.AggregateFunctions.*;\n",
    "\n",
    "import tech.tablesaw.api.NumericColumn;\n",
    "import tech.tablesaw.api.Table;\n",
    "import tech.tablesaw.plotly.Plot;\n",
    "import tech.tablesaw.plotly.components.Figure;\n",
    "import tech.tablesaw.plotly.components.Line;\n",
    "import tech.tablesaw.plotly.components.Layout;\n",
    "import tech.tablesaw.plotly.traces.ScatterTrace;\n",
    "import tech.tablesaw.plotly.components.Marker;\n",
    "import tech.tablesaw.plotly.traces.BarTrace;\n",
    "import tech.tablesaw.plotly.traces.Trace;\n",
    "import tech.tablesaw.plotly.api.LinePlot;\n",
    "import tech.tablesaw.plotly.api.ScatterPlot;\n",
    "import tech.tablesaw.plotly.api.VerticalBarPlot;\n",
    "\n",
    "//Display Tablesaw tables dengan BeakerX\n",
    "tech.tablesaw.beakerx.TablesawDisplayer.register();\n",
    "\n",
    "//init objek file CSV\n",
    "Table dfCsv = Table.read().csv(\"12181608.csv\");\n",
    "//Struktur file CSV\n",
    "System.out.println(dfCsv.structure());\n",
    "//Ordo file CSV\n",
    "System.out.println(dfCsv.shape());\n",
    "\n",
    "//init objek XlsxReader\n",
    "XlsxReader reader=new XlsxReader();\n",
    "XlsxReadOptions options=XlsxReadOptions.builder(\"12181608.xlsx\").build();\n",
    "Table dfXlsx=reader.read(options);\n",
    "\n",
    "System.out.println(dfXlsx.structure());\n",
    "System.out.println(dfXlsx.shape());\n",
    "\n",
    "//Menggabungkan file Xlsx dan Csv\n",
    "Table datagabung=dfXlsx.append(dfCsv);\n",
    "\n",
    "datagabung.setName(\"12181608 XLSX dan CSV\");\n",
    "System.out.println(datagabung.first(10));\n",
    "\n",
    "datagabung.setName(\"Rerata 12181608 XLSX dan CSV\");\n",
    "System.out.println(datagabung.summarize(\"nilai\", sum, mean, max, min, median, standardDeviation,variance).apply());\n",
    "\n",
    "Table summaryNilaiPerDaerah=datagabung.summarize(\"nilai\", sum).by(\"vervar\").sortAscendingOn(\"vervar\");\n",
    "System.out.println(summaryNilaiPerDaerah.print());\n",
    "\n",
    "Table summaryNilaiPerHewan=datagabung.summarize(\"nilai\", sum).by(\"turvar\").sortAscendingOn(\"turvar\");\n",
    "System.out.println(summaryNilaiPerHewan.print());\n",
    "\n",
    "Plot.show(\n",
    "    ScatterPlot.create(\n",
    "        \"Nilai Hewan Tiap Tahun\",\n",
    "        datagabung,\n",
    "        \"tahun\",\n",
    "        \"nilai\",\n",
    "        \"turvar\"\n",
    "    )\n",
    ");\n",
    "\n",
    "Plot.show(\n",
    "        VerticalBarPlot.create(\n",
    "            \"Nilai Hewan Ternak per Daerah\",\n",
    "            summaryNilaiPerDaerah,\n",
    "            \"vervar\",\n",
    "            Layout.BarMode.GROUP,\n",
    "            \"sum [nilai]\") \n",
    "        );\n",
    "\n",
    "Plot.show(\n",
    "        VerticalBarPlot.create(\n",
    "            \"Jumlah Ternak per Hewan\",\n",
    "            summaryNilaiPerHewan,\n",
    "            \"turvar\",\n",
    "            Layout.BarMode.GROUP,\n",
    "            \"sum [nilai]\") \n",
    "        );"
   ]
  }
 ],
 "metadata": {
  "kernelspec": {
   "display_name": "Java",
   "language": "java",
   "name": "java"
  },
  "language_info": {
   "codemirror_mode": "text/x-java",
   "file_extension": ".java",
   "mimetype": "",
   "name": "Java",
   "nbconverter_exporter": "",
   "version": "1.8.0_121"
  },
  "toc": {
   "base_numbering": 1,
   "nav_menu": {},
   "number_sections": false,
   "sideBar": false,
   "skip_h1_title": false,
   "title_cell": "Table of Contents",
   "title_sidebar": "Contents",
   "toc_cell": false,
   "toc_position": {},
   "toc_section_display": false,
   "toc_window_display": false
  }
 },
 "nbformat": 4,
 "nbformat_minor": 2
}
